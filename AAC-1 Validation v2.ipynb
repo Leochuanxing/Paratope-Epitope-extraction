{
 "cells": [
  {
   "cell_type": "markdown",
   "metadata": {},
   "source": [
    "### This file is to validate the results of AAC-1 by comparing the results of AAC-1 to all the possible interactions of a complex. This validation method is computationally costly, but more robust to test the fallacies of AAC-1. It may takes one hour for a cpu to compute 200 pdb files"
   ]
  },
  {
   "cell_type": "markdown",
   "metadata": {},
   "source": [
    "### Do some preparations"
   ]
  },
  {
   "cell_type": "code",
   "execution_count": 9,
   "metadata": {},
   "outputs": [
    {
     "data": {
      "text/plain": [
       "'C:\\\\Users\\\\leo\\\\Documents\\\\Research\\\\Database\\\\PDB Learning'"
      ]
     },
     "execution_count": 9,
     "metadata": {},
     "output_type": "execute_result"
    }
   ],
   "source": [
    "import json\n",
    "import os\n",
    "os.getcwd()\n",
    "# os.chdir()\n",
    "# os.listdir()\n"
   ]
  },
  {
   "cell_type": "markdown",
   "metadata": {},
   "source": [
    "### Extract_coordinates\n",
    "* **Inputs:** \n",
    " * *combineddict*, a list in the form of ['BDF', 'ACE', 'GH'] for one pdb. \n",
    " * *pdb*, the pdb file corresponding to the combineddict.\n",
    "* **Returns:**  \n",
    " * *coordinates* a dictionary in the form of {'A':[[1.2, 1.2, 3.0, 30, ALA], ....]}, [1.2, 1.2, 3.0, 30, ALA], the first three components are the coordinates, the fourth is the position, the last one is the name of the amino acids. It give all the coordinates of the atoms of all chains in one pdb file."
   ]
  },
  {
   "cell_type": "code",
   "execution_count": 1,
   "metadata": {},
   "outputs": [],
   "source": [
    "def Extract_coordinates(combineddict, pdb):\n",
    "    all_chains = ''\n",
    "    coordinates = {}\n",
    "    for i in combineddict:\n",
    "        all_chains +=i\n",
    "    for i in all_chains:\n",
    "        coordinates[i] = []\n",
    "    for line in pdb:\n",
    "        temp = []\n",
    "        if line[:4] == 'ATOM':\n",
    "            if line[21] in all_chains:\n",
    "                temp =[float(line[30:38]), float(line[38:46]), float(line[46:54]), line[22:27], line[17:20]]\n",
    "                coordinates[line[21]].append(temp)\n",
    "    return coordinates"
   ]
  },
  {
   "cell_type": "markdown",
   "metadata": {},
   "source": [
    "### Define a distance function"
   ]
  },
  {
   "cell_type": "code",
   "execution_count": 2,
   "metadata": {},
   "outputs": [],
   "source": [
    "def dist(coordinates1, coordinates2):\n",
    "    s = 0\n",
    "    for i in range(len(coordinates1)):\n",
    "        s += (coordinates1[i]-coordinates2[i])**2\n",
    "    dist = s**0.5\n",
    "    return dist"
   ]
  },
  {
   "cell_type": "markdown",
   "metadata": {},
   "source": [
    "### count\n",
    "#### This function will be used in *Extract_contact*\n",
    "*  **Inputs:** \n",
    " * *temp*, a list in the form of[ ['111 ', ALA, '20  ', LEU], ...].\n",
    "* **Returns:**  \n",
    " * contact,  a list in the form of [[ALA, GLN, 10], ....]."
   ]
  },
  {
   "cell_type": "code",
   "execution_count": null,
   "metadata": {},
   "outputs": [],
   "source": [
    "def count(temp):\n",
    "    temp_list1 = []\n",
    "    for i in temp:\n",
    "        temp_list1.append(i[0]+i[2]+i[1]+i[3])\n",
    "    temp_set = set(temp_list1)\n",
    "#    print(temp_set)\n",
    "    contact = []\n",
    "    for j in temp_set:\n",
    "        n = temp_list1.count(j)\n",
    "        contact.append([j[-6:-3], j[-3: ], n])\n",
    "#        print([j[-6:-3], j[-3: ], n])\n",
    "    return contact"
   ]
  },
  {
   "cell_type": "markdown",
   "metadata": {},
   "source": [
    "### Extract_contact\n",
    " * **Inputs:**  \n",
    "  * *coordinates*, a dictionary for one pdb, it is of the same as the returns of function *Extract_coordinates*\n",
    "  * *iddict*, a list given in the form of  [['B', 'A', ''], ['D', 'C', 'G'], ['F', 'E', 'H']], which given information about the relationship between chains. It is of the same pdb as *coordinates*.\n",
    "  * *cutoff*, float, gives the cutoff distance\n",
    " * **Returns:**  \n",
    "  * contact, a list in the form of [[ALA, GLN, 10], ....], which means ALA contacts with GLN some where in the pdb and the contact number is 10."
   ]
  },
  {
   "cell_type": "code",
   "execution_count": null,
   "metadata": {},
   "outputs": [],
   "source": [
    "def Extract_contact(coordinates, iddict, cutoff = 4):\n",
    "    \n",
    "    contact = []\n",
    "    for i in iddict:\n",
    "        temp1 = []\n",
    "        if i[0]!= '' and i[2] != '':\n",
    "            for j in coordinates[i[0]]:\n",
    "                for k in coordinates[i[2]]:\n",
    "                    if dist(j[:3], k[:3])<= cutoff:\n",
    "                        l = j[3:]\n",
    "                        l.extend(k[3:])\n",
    "                        temp1.append(l)\n",
    "        contact.extend(count(temp1))\n",
    "                        \n",
    "        temp1 = []\n",
    "        if i[1]!= '' and i[2] != '':\n",
    "            for j in coordinates[i[1]]:\n",
    "                for k in coordinates[i[2]]:\n",
    "                    if dist(j[:3], k[:3])<= cutoff:\n",
    "                        l = j[3:]\n",
    "                        l.extend(k[3:])\n",
    "                        temp1.append(l)\n",
    "        contact.extend(count(temp1))\n",
    "        \n",
    "    return contact"
   ]
  },
  {
   "cell_type": "markdown",
   "metadata": {},
   "source": [
    "### Run\n",
    "**This step will take a long time. It is better to divide the pdb files into batches.**"
   ]
  },
  {
   "cell_type": "code",
   "execution_count": 7,
   "metadata": {},
   "outputs": [],
   "source": [
    "# with open('contact_homo', 'r') as f:\n",
    "#     contact_homo = json.load(f)\n",
    "# total_contact_homo ={}\n",
    "# n = 0 \n",
    "# for i in contact_homo:\n",
    "#     with open(i +'.pdb', 'r') as pdb:\n",
    "#         n += 1         \n",
    "#         print('Dealing with ' + i + '   ' + str(n))\n",
    "#         coordinates = Extract_coordinates(here_iddict_combineddict[1][i], pdb)\n",
    "#         contact = Extract_contact(coordinates, here_iddict_combineddict[0][i])\n",
    "#         total_contact_homo[i] = contact "
   ]
  },
  {
   "cell_type": "markdown",
   "metadata": {},
   "source": [
    "### Save the results\n",
    "**We save these results for later usage**"
   ]
  },
  {
   "cell_type": "code",
   "execution_count": null,
   "metadata": {},
   "outputs": [],
   "source": [
    "# with open('total_contact', 'w') as f:\n",
    "#     json.dump(total_contact_homo, f)"
   ]
  },
  {
   "cell_type": "markdown",
   "metadata": {},
   "source": [
    "### extract_aa_from_results\n",
    "* **Inputs:**  \n",
    " * *sub_contact*, a list of four coordinates generate by AAC-1 for one pdb file\n",
    " * seq, a dictionary, gives the sequence for one pdb file, it is generated by AAC-1\n",
    "* **Return:**  \n",
    " * *aa*, a list of conatact corresponding to sub_contact in the form of [['PRO', 'SER', 3],...]"
   ]
  },
  {
   "cell_type": "code",
   "execution_count": 5,
   "metadata": {},
   "outputs": [],
   "source": [
    "def extract_aa_from_results(sub_contact, seq):\n",
    "    aa = []\n",
    "    for F_coordinates in sub_contact:\n",
    "        antibody_chain = F_coordinates[0][2]\n",
    "        antigen_chain = F_coordinates[0][3]\n",
    "        aa.append([seq[antibody_chain][F_coordinates[1]], seq[antigen_chain][F_coordinates[2]], F_coordinates[3]])\n",
    "    return aa "
   ]
  },
  {
   "cell_type": "markdown",
   "metadata": {},
   "source": [
    "### validation\n",
    "* **Inputs:**\n",
    " * *contact_homo_pdb*, the contact of one pdb generated by **AAC-1**\n",
    " * *seq_homo_pdb*, the sequence of the same pdb as *contact_homo_pdb*, generated by **AAC-1**\n",
    " * *total_contact_homo_pdb*, the total contact of the same pdb as above, generated by *Extract_contact*\n",
    "* **Returns:** \n",
    " * *res*, a string says\"Same\" or \"Different\" about whether the result generated by **AAC-1** and *Extract_contact* are the same"
   ]
  },
  {
   "cell_type": "code",
   "execution_count": 6,
   "metadata": {},
   "outputs": [],
   "source": [
    "def validation(contact_homo_pdb, seq_homo_pdb, total_contact_homo_pdb):\n",
    "    \n",
    "    contact_results =  extract_aa_from_results(contact_homo_pdb, seq_homo_pdb)\n",
    "    \n",
    "    for i in contact_results:\n",
    "        n = 0 \n",
    "        res = ''\n",
    "        if i not in total_contact_homo_pdb:\n",
    "            res = 'Different'\n",
    "            n += 1\n",
    "            break\n",
    "    if n == 0:\n",
    "        res = 'Same'\n",
    "    return res"
   ]
  },
  {
   "cell_type": "markdown",
   "metadata": {},
   "source": [
    "### Run to validify"
   ]
  },
  {
   "cell_type": "code",
   "execution_count": null,
   "metadata": {},
   "outputs": [],
   "source": [
    "# for i in contact_homo:\n",
    "#     try:\n",
    "#         print(i +'  '+ validation(contact_homo[i], seq_homo[i], total_contact_homo[i]))\n",
    "#     except:\n",
    "#         print(i)"
   ]
  }
 ],
 "metadata": {
  "kernelspec": {
   "display_name": "Python 3",
   "language": "python",
   "name": "python3"
  },
  "language_info": {
   "codemirror_mode": {
    "name": "ipython",
    "version": 3
   },
   "file_extension": ".py",
   "mimetype": "text/x-python",
   "name": "python",
   "nbconvert_exporter": "python",
   "pygments_lexer": "ipython3",
   "version": "3.6.3"
  }
 },
 "nbformat": 4,
 "nbformat_minor": 2
}
