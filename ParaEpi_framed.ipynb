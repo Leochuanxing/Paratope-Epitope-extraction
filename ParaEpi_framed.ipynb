{
 "cells": [
  {
   "cell_type": "markdown",
   "metadata": {},
   "source": [
    "## This file is to extract the amino acids of the paratope and the epitope with the constraint of the frame length"
   ]
  },
  {
   "cell_type": "markdown",
   "metadata": {},
   "source": [
    "### extract_four_coordinates_aa_pos\n",
    "* **Inputs:**  \n",
    " * *DataExtract_pdb*, a dictionary, extracted data for pdb in the form of {'h1HA': [[30], None, None, None], [17, 0, 0, 0], [0.532, ...]],...}\n",
    " * *Four_coordinates*: a list of four coordinates, from the same pdf as DataExtract_pdb, in the form of [['h1HA', 30, 16, 7],...]\n",
    " * *frame_length*, an integer, gives the length of the refernce frame, it has the same meaning as *length* in *extract_aa_consecutive_pos*.\n",
    " * *ref_chain*, a string, takes values as either 'Ab' or 'Ag'. \n",
    "* **Returns:**  \n",
    " * *extract_four_coordinates*, a dictionary, in the form of {'h1HA':[['h1HA', 30, 16, 7],...], ...}\n",
    " * *aa_pos_correspondence_framed*, a dictionary, in the form of {'h1HA': [[30], [16, 17], 14, 0.824],...}, where the paratope aa or epitope aa is arranged according to the arranged frame,14 stands for the contact number, 0.824 stands for the ratio 14 is to the total contact number of CDRh1, it corresponds to the same pdb as DataExtract_pdb"
   ]
  },
  {
   "cell_type": "code",
   "execution_count": 1,
   "metadata": {},
   "outputs": [],
   "source": [
    "def extract_four_coordinates_aa_pos(DataExtract_pdb, Four_coordinates_pdb, frame_length, ref_chain = 'Ag'):\n",
    "    if ref_chain == 'Ab':\n",
    "        ind = 1\n",
    "    if ref_chain == 'Ag':\n",
    "        ind = 2\n",
    "        \n",
    "    extract_four_coordinates = {}\n",
    "    for i in DataExtract_pdb:\n",
    "        extract_four_coordinates[i] = []\n",
    "        for j in Four_coordinates_pdb:\n",
    "            if i == j[0] and DataExtract_pdb[i][0][frame_length-1] != None and (j[ind] in DataExtract_pdb[i][0][frame_length-1]):\n",
    "                 extract_four_coordinates[i].append(j)\n",
    "        if extract_four_coordinates[i] == []:\n",
    "            del extract_four_coordinates[i]\n",
    "            \n",
    "    aa_pos_correspondence_framed = {}       \n",
    "    for i in extract_four_coordinates:\n",
    "        aa_pos_correspondence_framed[i] = [None, None, None, None]\n",
    "        temp = []\n",
    "        extract_four_coordinates[i].sort(key = lambda x: x[ind])\n",
    "        for j in extract_four_coordinates[i]:\n",
    "            if j[3-ind] not in temp:\n",
    "                temp.append(j[3-ind])\n",
    "        aa_pos_correspondence_framed[i][ind-1] = DataExtract_pdb[i][0][frame_length-1]\n",
    "        aa_pos_correspondence_framed[i][2-ind] = temp\n",
    "        aa_pos_correspondence_framed[i][2] = DataExtract_pdb[i][1][frame_length-1]\n",
    "        aa_pos_correspondence_framed[i][3] = DataExtract_pdb[i][2][frame_length-1]\n",
    "               \n",
    "    return extract_four_coordinates, aa_pos_correspondence_framed"
   ]
  },
  {
   "cell_type": "markdown",
   "metadata": {},
   "source": [
    "### map_to_aa\n",
    "* **Inputs:**  \n",
    " * *aa_pos_correspondence_framed*, the same as above.\n",
    " * *seq_pdb*, a dictionary of the form  {'H': ['GLU', 'VAL',...],...}, it should be of the same pdb as *aa_pos_correspondence_framed*\n",
    "* **Returns:**\n",
    " * *aa_framed*, a dictionary, in the form of {'h1HA':[[ASP],[SER, ARG],...], ...} if {'h1HA':[[ASP],[SER, O, ARG],...], ...}, O stands for insertion(s)."
   ]
  },
  {
   "cell_type": "code",
   "execution_count": 2,
   "metadata": {},
   "outputs": [],
   "source": [
    "def map_to_aa(aa_pos_correspondence_framed, seq_pdb):\n",
    "    aa_framed = {}\n",
    "    for i in aa_pos_correspondence_framed:\n",
    "        #initiate the returned values\n",
    "        aa_framed[i] = [None, None, None, None]\n",
    "        \n",
    "        antibody_chain = i[2]        \n",
    "        antibody_temp = []        \n",
    "        tracker = aa_pos_correspondence_framed[i][0][0]\n",
    "        for j in aa_pos_correspondence_framed[i][0]:\n",
    "            if j - tracker <= 1:\n",
    "                antibody_temp.append(seq_pdb[antibody_chain][j])\n",
    "                tracker = j \n",
    "            else:\n",
    "                antibody_temp.extend(['O', seq_pdb[antibody_chain][j]])\n",
    "                tracker = j \n",
    "            \n",
    "        antigen_chain = i[3]\n",
    "        antigen_temp = []\n",
    "        tracker = aa_pos_correspondence_framed[i][1][0]\n",
    "        for k in aa_pos_correspondence_framed[i][1]:\n",
    "            if k - tracker <= 1:\n",
    "                antigen_temp.append(seq_pdb[antigen_chain][k])\n",
    "                tracker = k \n",
    "            else:\n",
    "                antigen_temp.extend(['O', seq_pdb[antigen_chain][k]])\n",
    "                tracker = k\n",
    "        \n",
    "        aa_framed[i][0] = antibody_temp\n",
    "        aa_framed[i][1] = antigen_temp\n",
    "        aa_framed[i][2] = aa_pos_correspondence_framed[i][2]\n",
    "        aa_framed[i][3] = aa_pos_correspondence_framed[i][3]\n",
    "    \n",
    "    return aa_framed"
   ]
  },
  {
   "cell_type": "markdown",
   "metadata": {},
   "source": [
    "### Set the working directory"
   ]
  },
  {
   "cell_type": "code",
   "execution_count": 4,
   "metadata": {},
   "outputs": [],
   "source": [
    "import os\n",
    "os.getcwd()\n",
    "os.chdir(\"C:\\\\Users\\\\leo\\\\Documents\\\\Research\\\\Database\\\\Humnized antibody\\\\PDB DATA\\\\Homo Sapiens with paptide 5+\\\\structure\")"
   ]
  },
  {
   "cell_type": "markdown",
   "metadata": {},
   "source": [
    "### Import the required data"
   ]
  },
  {
   "cell_type": "code",
   "execution_count": 5,
   "metadata": {},
   "outputs": [],
   "source": [
    "import json\n",
    "with open('DataExtract_homo', 'r') as f:\n",
    "    DataExtract_homo = json.load(f)\n",
    "with open('contact_homo', 'r') as f:\n",
    "    contact_homo = json.load(f)\n",
    "with open('seq_homo', 'r') as f:\n",
    "    seq_homo = json.load(f)"
   ]
  },
  {
   "cell_type": "markdown",
   "metadata": {},
   "source": [
    "### Combine together"
   ]
  },
  {
   "cell_type": "code",
   "execution_count": 6,
   "metadata": {},
   "outputs": [],
   "source": [
    "four_coordinates_framed = {}\n",
    "aa_pos_correspondence_framed = {}\n",
    "for i in DataExtract_homo:\n",
    "    four_coordinates_framed[i], aa_pos_correspondence_framed[i] = extract_four_coordinates_aa_pos(DataExtract_homo[i],\n",
    "                        contact_homo[i], frame_length = 2, ref_chain = 'Ag')\n",
    "    \n",
    "aa_correspondence_framed = {}\n",
    "for i in aa_pos_correspondence_framed:\n",
    "    aa_correspondence_framed[i] = map_to_aa(aa_pos_correspondence_framed[i], seq_homo[i])"
   ]
  },
  {
   "cell_type": "markdown",
   "metadata": {},
   "source": [
    "### Save the results"
   ]
  },
  {
   "cell_type": "code",
   "execution_count": 7,
   "metadata": {},
   "outputs": [],
   "source": [
    "with open('ParaEpi_pos_framed', 'w') as f:\n",
    "    json.dump(aa_pos_correspondence_framed, f)\n",
    "with open('ParaEpi_framed', 'w') as f:\n",
    "    json.dump(aa_correspondence_framed, f)\n",
    "with open('ParaEpi_fcdn_framed', 'w') as f:\n",
    "    json.dump(four_coordinates_framed, f)"
   ]
  },
  {
   "cell_type": "code",
   "execution_count": 8,
   "metadata": {},
   "outputs": [
    {
     "data": {
      "text/plain": [
       "{'h1HA': [['ASP'], ['SER', 'ARG'], 14, 0.824],\n",
       " 'h2HA': [['TRP'], ['ILE', 'SER'], 11, 1.0],\n",
       " 'h3HA': [['ARG', 'SER', 'TYR', 'VAL'], ['ASN', 'HIS'], 20, 0.488]}"
      ]
     },
     "execution_count": 8,
     "metadata": {},
     "output_type": "execute_result"
    }
   ],
   "source": [
    "aa_correspondence_framed ['1adq']"
   ]
  },
  {
   "cell_type": "code",
   "execution_count": null,
   "metadata": {},
   "outputs": [],
   "source": []
  }
 ],
 "metadata": {
  "kernelspec": {
   "display_name": "Python 3",
   "language": "python",
   "name": "python3"
  },
  "language_info": {
   "codemirror_mode": {
    "name": "ipython",
    "version": 3
   },
   "file_extension": ".py",
   "mimetype": "text/x-python",
   "name": "python",
   "nbconvert_exporter": "python",
   "pygments_lexer": "ipython3",
   "version": "3.6.3"
  }
 },
 "nbformat": 4,
 "nbformat_minor": 2
}
