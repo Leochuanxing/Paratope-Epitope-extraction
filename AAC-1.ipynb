{
 "cells": [
  {
   "cell_type": "markdown",
   "metadata": {},
   "source": [
    "### Define a function to extract the antibody chain sequences and CDR coordinates\n",
    "* **Input:**   \n",
    "  * line: line from pdb files, the format of each line is given by the **Format_v33_Letter**\n",
    "  * chain id: it is the id for a chain, it is gien by the **Summary** file. For example, the light chain maybe gien the id **B**\n",
    "  * CDR_index, a string, takes values from {\"l1\", \"l2\", \"l3\", \"h1\", \"h2\", \"h3\"}   \n",
    "  * CDR_range, a list, gives the position where the **CDR**s are located. For example, the CDRL1 is located at [23, 35]\n",
    "  * normal_tracker, an integer,  tracks the change of the orders of normal sequence, For example, **ALA 120, ARG 121**, normal_tracker = 121 -120 = 1. And for**ALA 120, ARG 122**, normal_tracker = 122 - 120 =2, which means there is a jump.  \n",
    "  * insersion_tracker, tracks the change of the orders of inserted amino acid, its a string. For example, **ALA 120A**, the insersion_tracker is **\"A\"**  \n",
    "  * break_indexer, integer, gives the distance of the jump between two amino acids. For example **ALA 120, ARG 120A**, normal_tracker = 120 -120 = 0, the insersion_tracker changes for **\" \"** to **\"A\"**, break_indexer = normal_tracker + _the change of _**insersion_tracker** = 1  \n",
    "  * antibody_chain, a dictionary, gives the amino acid sequence of the antibody chain, with key _chain_id_  \n",
    "  * CDR_coordinates, a dictionary, gives the coordinates of the amino acids in CDRs. For example, CDR_coordinates = {'l1A':[[1.04, 1.11, 0.25, 24], .....]}, means, for the light chain with chain id **A**, there is an atom with coordinates (1.04, 1.11, 0.25), and this atom is from amino acid 24, and this amino acids is given by *antibody_chain['A'][24]*  \n",
    "\n",
    "* **Output:**  \n",
    "All the returns has the same meaning as in the input, and those values will be fed into ***Get_CDR_chain_and_coordinates*** to iterate over the lines of a *PDB* file.\n",
    "\n",
    " "
   ]
  },
  {
   "cell_type": "code",
   "execution_count": 5,
   "metadata": {
    "collapsed": true
   },
   "outputs": [],
   "source": [
    "def Get_CDR_chain_and_coordinates(line, chain_id, CDR_index, CDR_range, counter = 0, normal_tracker = 0,insersion_tracker = ' ', \n",
    "    antibody_chain = {}, CDR_coordinates = {}):\n",
    "    #line begins with\"ATOM\", chain_id is for antibody\n",
    "    break_indexer = 0 # track the distance between two adjacent  ATOM data in terms of amino acids\n",
    "#     track the normal sequence, to see whether it jumps    \n",
    "    if  normal_tracker != 0:\n",
    "        break_indexer += int(line[22:26]) - normal_tracker\n",
    "        normal_tracker = int(line[22:26])\n",
    "    elif normal_tracker == 0:\n",
    "        normal_tracker = int(line[22:26])\n",
    "        antibody_chain[chain_id] = [line[17:20]]\n",
    "# track whether there is any insersion        \n",
    "    if line[26] != insersion_tracker and line[26] != ' ':\n",
    "        break_indexer += 1\n",
    "        insersion_tracker = line[26]\n",
    "    elif line[26] != insersion_tracker and line[26] == ' ':\n",
    "        insersion_tracker = line[26]\n",
    "\n",
    "    if break_indexer == 0: \n",
    "        if (CDR_index+chain_id in CDR_coordinates) and (counter in CDR_range):\n",
    "            CDR_coordinates[CDR_index+chain_id].append([float(line[30:38]), float(line[38:46]), float(line[46:54]), counter])\n",
    "        elif (CDR_index+chain_id not in CDR_coordinates) and (counter in CDR_range):\n",
    "            CDR_coordinates[CDR_index+chain_id] = [[float(line[30:38]), float(line[38:46]), float(line[46:54]), counter]]\n",
    "    elif break_indexer >= 1:# here we assume there is no jump in the sequence of the antibody chains\n",
    "        counter += 1\n",
    "        antibody_chain[chain_id].append(line[17:20])\n",
    "        if (CDR_index+chain_id in CDR_coordinates) and (counter in CDR_range):\n",
    "            CDR_coordinates[CDR_index+chain_id].append([float(line[30:38]), float(line[38:46]), float(line[46:54]), counter])\n",
    "        elif (CDR_index+chain_id not in CDR_coordinates) and (counter in CDR_range):\n",
    "            CDR_coordinates[CDR_index+chain_id] = [[float(line[30:38]), float(line[38:46]), float(line[46:54]), counter]]   \n",
    "    \n",
    "    return counter, normal_tracker, antibody_chain, CDR_coordinates, insersion_tracker"
   ]
  },
  {
   "cell_type": "markdown",
   "metadata": {},
   "source": [
    "### Get_antigen_chain_and_coordinates\n",
    "** All the input have the same meaning as the *Get_CDR_chain_and_coordinates*.**"
   ]
  },
  {
   "cell_type": "code",
   "execution_count": 6,
   "metadata": {
    "collapsed": true
   },
   "outputs": [],
   "source": [
    "def Get_antigen_chain_and_coordinates(line, chain_id, counter = 0, normal_tracker = 0, \n",
    "    antigen_chain = {}, antigen_coordinates = {},insersion_tracker = ' '):\n",
    "    #line begins with\"ATOM\", chain_id is for antigen\n",
    "    break_indexer = 0 # track the distance between two adjacent  ATOM data in terms of amino acids\n",
    "#     track the normal sequence, to see whether it jumps    \n",
    "    if  normal_tracker != 0:\n",
    "        break_indexer += int(line[22:26]) - normal_tracker\n",
    "        normal_tracker = int(line[22:26])\n",
    "    elif normal_tracker == 0:\n",
    "        normal_tracker = int(line[22:26])\n",
    "        antigen_chain[chain_id] = [line[17:20]]\n",
    "# track whether there is any insersion        \n",
    "    if line[26] != insersion_tracker and line[26] != ' ':\n",
    "        break_indexer += 1\n",
    "        insersion_tracker = line[26]\n",
    "    elif line[26] != insersion_tracker and line[26] == ' ':\n",
    "        insersion_tracker = line[26]\n",
    "#     extract coordinates and sequences, if there is a break, insert 'BRK' in the sequence\n",
    "    if break_indexer == 0:\n",
    "        if chain_id in antigen_coordinates:\n",
    "            antigen_coordinates[chain_id].append([float(line[30:38]), float(line[38:46]), float(line[46:54]), counter])\n",
    "        else:\n",
    "            antigen_coordinates[chain_id] = [[float(line[30:38]), float(line[38:46]), float(line[46:54]), counter]]\n",
    "            \n",
    "    elif break_indexer == 1:\n",
    "        counter += 1\n",
    "        antigen_chain[chain_id].append(line[17:20])\n",
    "        if chain_id in antigen_coordinates:\n",
    "            antigen_coordinates[chain_id].append([float(line[30:38]), float(line[38:46]), float(line[46:54]), counter])\n",
    "        else:\n",
    "            antigen_coordinates[chain_id] = [[float(line[30:38]), float(line[38:46]), float(line[46:54]), counter]]\n",
    "            \n",
    "    elif break_indexer >= 2:\n",
    "        # when this conditions is met, it means there is a jump in the sequence, we add a 'BRK' to represent the jump. \n",
    "        counter += 2\n",
    "        antigen_chain[chain_id].extend(['BRK', line[17:20]])\n",
    "        if chain_id in antigen_coordinates:\n",
    "            antigen_coordinates[chain_id].append([float(line[30:38]), float(line[38:46]), float(line[46:54]), counter])\n",
    "        else:\n",
    "            antigen_coordinates[chain_id] = [[float(line[30:38]), float(line[38:46]), float(line[46:54]), counter]]\n",
    "    \n",
    "    return counter, normal_tracker, antigen_chain, antigen_coordinates, insersion_tracker"
   ]
  },
  {
   "cell_type": "markdown",
   "metadata": {},
   "source": [
    "### Find_Chain_Coordinates\n",
    "* **Inputs:**  \n",
    " * pdb, a pdb file  \n",
    " * combined_chain_id, a list gives in the form of [heavy chain, light chain, antigen chain]\n",
    " \n",
    "* **Returns:**\n",
    " * PDBseq, a dictionary, gives the sequences of chains. For example, PDBseq = {'A':[ALA, SER, THR, TYR, ....], 'B':[GLU, ARG, ....]}  \n",
    "  * Coordinates, a dictinary gives the coordinates of the whole antigen chain, and CDR, it is in the form of {'A':[[0.05, -1.01. 0.20, 7], ....], 'h1H': [[0.03, -2.01. 0.30, 30], ....]}\n",
    " \n"
   ]
  },
  {
   "cell_type": "code",
   "execution_count": 7,
   "metadata": {
    "collapsed": true
   },
   "outputs": [],
   "source": [
    "def Find_Chain_Coordinates(pdb, combined_chain_id): #combined_chain_id = [heavy,light, antigen]\n",
    "    PDBseq = {}\n",
    "    Coordinates = {}\n",
    "    counter = 0\n",
    "    normal_tracker = 0\n",
    "    insersion_tracker = ' '\n",
    "    CDRLindex = [list(range(23, 36)), list(range(45, 56)), list(range(88, 97))]\n",
    "    CDRHindex = [list(range(25, 36)), list(range(46, 65)), list(range(90, 110))]\n",
    "    for line in pdb:\n",
    " #              Find the coordinates of CDRHs \n",
    "        if (line[:4] == 'ATOM' ) and (line[21] in combined_chain_id[0]):\n",
    "            (counter, normal_tracker, PDBseq, Coordinates, insersion_tracker) = Get_CDR_chain_and_coordinates(line, line[21], 'h1', CDRHindex[0],\n",
    "            counter, normal_tracker, insersion_tracker, PDBseq, Coordinates)\n",
    "            (counter, normal_tracker, PDBseq, Coordinates, insersion_tracker) = Get_CDR_chain_and_coordinates(line, line[21], 'h2', CDRHindex[1],\n",
    "            counter, normal_tracker, insersion_tracker, PDBseq, Coordinates)\n",
    "            (counter, normal_tracker, PDBseq, Coordinates, insersion_tracker) = Get_CDR_chain_and_coordinates(line, line[21], 'h3', CDRHindex[2],\n",
    "            counter, normal_tracker, insersion_tracker, PDBseq, Coordinates)\n",
    "#              Find the coordinates of CDRLs \n",
    "        elif (line[:4] == 'ATOM' ) and line[21] in combined_chain_id[1]:\n",
    "            (counter, normal_tracker, PDBseq, Coordinates, insersion_tracker) = Get_CDR_chain_and_coordinates(line, line[21], 'l1', CDRLindex[0],\n",
    "            counter, normal_tracker, insersion_tracker, PDBseq, Coordinates)\n",
    "            (counter, normal_tracker, PDBseq, Coordinates, insersion_tracker) = Get_CDR_chain_and_coordinates(line, line[21], 'l2', CDRLindex[1],\n",
    "            counter, normal_tracker, insersion_tracker, PDBseq, Coordinates)\n",
    "            (counter, normal_tracker, PDBseq, Coordinates, insersion_tracker) = Get_CDR_chain_and_coordinates(line, line[21], 'l3', CDRLindex[2],\n",
    "            counter, normal_tracker, insersion_tracker, PDBseq, Coordinates)\n",
    "#              Find the coordinates of Antigen\n",
    "        elif (line[:4] == 'ATOM' ) and line[21] in combined_chain_id[2]:\n",
    "#            (DBREF, Coordinates) = get_cdr_coordinates(line, DBREF, Coordinates, '', list(range(10000)))                \n",
    "            (counter, normal_tracker, PDBseq, Coordinates, insersion_tracker) = Get_antigen_chain_and_coordinates(line, line[21], counter, normal_tracker, \n",
    "            PDBseq, Coordinates, insersion_tracker) \n",
    "        elif line[:3] == 'TER':\n",
    "            counter = 0\n",
    "            normal_tracker = 0\n",
    "            insersion_tracker = ' '\n",
    "    \n",
    "    return  PDBseq, Coordinates "
   ]
  },
  {
   "cell_type": "markdown",
   "metadata": {},
   "source": [
    "### Distance\n",
    "* Define a distance function, to calculate the Euclidean distance"
   ]
  },
  {
   "cell_type": "code",
   "execution_count": 8,
   "metadata": {
    "collapsed": true
   },
   "outputs": [],
   "source": [
    "def Distance(coordinate1, coordinate2):\n",
    "    distance_square = 0\n",
    "    for i in range(0,3):\n",
    "        distance_square += (coordinate1[i]-coordinate2[i])**2\n",
    "    distance = distance_square**0.5\n",
    "    return distance"
   ]
  },
  {
   "cell_type": "markdown",
   "metadata": {},
   "source": [
    "### findContact_sub_function\n",
    "* **Input:** \n",
    " *  CDRs, list of strings, composed of the keys in *CDR_coordinates*, such as ['h1B', 'h2B', ..]  \n",
    " * achain, chain id for the antigen  \n",
    " * coordinates_for_one_pdb, returned *Coordinates* from function *Find_Chain_Coordinates*  \n",
    " * cutoff, float, gives the cutoff distance  \n",
    " \n",
    "* **Output**  \n",
    " * contact_sub_count, a list with elements in the form of [l1LA, 24, 30, 7], which means number 24 amino acid in L chain CDR1, contacts with number 30 amino acid in antigen chain A, and the conact number between those two amino acids is 7.\n",
    "\n",
    " \n",
    " "
   ]
  },
  {
   "cell_type": "code",
   "execution_count": 9,
   "metadata": {
    "collapsed": true
   },
   "outputs": [],
   "source": [
    "def findContact_sub_function(CDRs, achain, coordinates_for_one_pdb, cutoff):\n",
    "    contact_sub_all = []\n",
    "    contact_sub_count =[]\n",
    "    temp_dict = {}\n",
    "    for j in CDRs:\n",
    "        for k in coordinates_for_one_pdb[j]:\n",
    "            for l in coordinates_for_one_pdb[achain]:\n",
    "                if Distance(k[:3],l[:3]) <= cutoff:\n",
    "                    contact_sub_all.append(j+achain+'_'+str(k[3])+'_'+str(l[3]))\n",
    "    for m in contact_sub_all:\n",
    "        if m in temp_dict:\n",
    "            temp_dict[m] += 1\n",
    "        else:\n",
    "            temp_dict[m] = 1\n",
    "    for n in temp_dict:\n",
    "        temp_list = n.split('_')\n",
    "        contact_sub_count.append([temp_list[0], int(temp_list[1]), int(temp_list[2]), temp_dict[n]])\n",
    "    return contact_sub_count  "
   ]
  },
  {
   "cell_type": "markdown",
   "metadata": {},
   "source": [
    "### findContact\n",
    "* **Input:**  \n",
    " * coordinates_for_one_pdb, as described above  \n",
    " * cutoff, as described above  \n",
    " * id_dict_for_one_pdb, a dictionary, in the form as {'1dee', [[ H, L, A], [ H, L, B], ....}, '1dee' is the pdbid of the complex, [ H, L, A] give the ids of  heavy chain, light chain, and antigen chain. There may be more than one set of those combinations.  \n",
    " \n",
    "* **Output:**  \n",
    " * contact_count, a list, contains all the four_coordinates contact information for one pdb file.\n",
    " "
   ]
  },
  {
   "cell_type": "code",
   "execution_count": 10,
   "metadata": {
    "collapsed": true
   },
   "outputs": [],
   "source": [
    "def findContact(coordinates_for_one_pdb, id_dict_for_one_pdb, cutoff):\n",
    "    ct = cutoff\n",
    "    contact_count = []\n",
    "    for i in id_dict_for_one_pdb:#id_dict_for_one_pdb\n",
    "#find contact between between CDRHs and the Antigen\n",
    "        if i[2] != '' and i[0] != '':\n",
    "            CDRHs = ['h1'+i[0], 'h2'+i[0], 'h3'+i[0]]\n",
    "            contact_count.extend(findContact_sub_function(CDRHs, i[2], coordinates_for_one_pdb, ct))\n",
    "#find contact between between CDRLs and the Antigen                   \n",
    "        if i[2] != '' and i[1] != '':           \n",
    "            CDRLs = ['l1'+i[1], 'l2'+i[1], 'l3'+i[1]]\n",
    "            contact_count.extend(findContact_sub_function(CDRLs, i[2], coordinates_for_one_pdb, ct))           \n",
    "    return contact_count    "
   ]
  },
  {
   "cell_type": "markdown",
   "metadata": {},
   "source": [
    "### Id_dict  \n",
    "* **Input:**  \n",
    " * file, it is the *summary* file wich gives the basic informations about antibody_antigen complexes  \n",
    "* **Output:**\n",
    " * id_dict, a dictionary, in the form of {'1dee', [[ H, L, A], [ H, L, B]}\n"
   ]
  },
  {
   "cell_type": "code",
   "execution_count": 11,
   "metadata": {
    "collapsed": true
   },
   "outputs": [],
   "source": [
    "def Id_dict (file):\n",
    "    id_dict = {}\n",
    "    for l in file:\n",
    "#        Make sure the line is long enough\n",
    "        if len(l) >= 16:\n",
    "            a = l.split('\\t')\n",
    "#        Deal with the | in a[4]            \n",
    "            for i in a[4].split('|') :\n",
    "                temp = [a[1].strip(), a[2].strip(), i.strip()]\n",
    "                for j in range(0,3):\n",
    "                    if temp[j] == 'NA':\n",
    "                        temp[j] =''                       \n",
    "                if a[0].strip() in id_dict:\n",
    "                    id_dict[a[0].strip()].append (temp)\n",
    "                else:\n",
    "                    id_dict[a[0].strip()] = [temp]                    \n",
    "    return id_dict  \n",
    "    "
   ]
  },
  {
   "cell_type": "markdown",
   "metadata": {},
   "source": [
    "### Combined_chain_id_dict  \n",
    "* **Input**  \n",
    " * id_dict, it is the out put of Id_dict  \n",
    "* **Return:**  \n",
    " * combined_chain_id_dict, in the form of {'1dee',  [ H, L, AB]}\n",
    " "
   ]
  },
  {
   "cell_type": "code",
   "execution_count": 12,
   "metadata": {
    "collapsed": true
   },
   "outputs": [],
   "source": [
    "def Combined_chain_id_dict (id_dict):\n",
    "    combined_chain_id_dict = {}\n",
    "    for i in id_dict:\n",
    "        temp = ['' ,'' ,'' ]        \n",
    "        for j in id_dict[i]:\n",
    "            temp = [temp[0]+j[0], temp[1]+j[1], temp[2]+j[2]]\n",
    "        combined_chain_id_dict[i] = temp\n",
    "    return combined_chain_id_dict   "
   ]
  },
  {
   "cell_type": "markdown",
   "metadata": {},
   "source": [
    "### Here_iddict_combineddict  \n",
    "* **Input:**  \n",
    " * id_dict, combined_chain_id_dict are the returns of the above two functions  \n",
    "* **Output:** \n",
    " * here_id_dict, here_combined_dict, are in the same form as the above two functions. However, those dictionaries are only about the summaries of all the pdbfiles in current working directory. Thus this function can be used for small scale testing."
   ]
  },
  {
   "cell_type": "code",
   "execution_count": 13,
   "metadata": {
    "collapsed": true
   },
   "outputs": [],
   "source": [
    "def Here_iddict_combineddict(id_dict, combined_chain_id_dict):\n",
    "    here_id_dict = {}\n",
    "    here_combined_dict = {}\n",
    "    names = os.listdir()\n",
    "    for f in names:\n",
    "        if len(f) == 8 and f[5:8] == 'pdb':\n",
    "            if f[:4] in id_dict:\n",
    "                here_id_dict[f[:4]] = id_dict[f[:4] ]\n",
    "            if f[:4] in combined_chain_id_dict:\n",
    "                here_combined_dict[f[:4]] = combined_chain_id_dict[f[:4] ] \n",
    "    return here_id_dict, here_combined_dict"
   ]
  },
  {
   "cell_type": "markdown",
   "metadata": {},
   "source": [
    "### main  \n",
    "* **Input:**  \n",
    " * here_iddict_combineddict, given above  \n",
    "* **Return:**  \n",
    " * sequence_and_coordinates, contact, they are the returns of *Find_Chain_Coordinates* and *findContact*.\n"
   ]
  },
  {
   "cell_type": "code",
   "execution_count": 14,
   "metadata": {
    "collapsed": true
   },
   "outputs": [],
   "source": [
    "def main(here_iddict_combineddict):\n",
    "    sequence_and_coordinates = {}\n",
    "    n = 0\n",
    "    for i in here_iddict_combineddict[1]:\n",
    "        n += 1\n",
    "        print('extracting sequence and coordinates of '+ i + '.pdb...'+ str(n))\n",
    "        with open(i+'.pdb', 'r') as f:\n",
    "            sequence_and_coordinates[i] = Find_Chain_Coordinates(f, here_iddict_combineddict[1][i])\n",
    "    n = 0\n",
    "    contact = {}\n",
    "    for i in sequence_and_coordinates:\n",
    "        n += 1\n",
    "        print('Counting contact of '+ i + '.pdb...'+ str(n))\n",
    "        try:\n",
    "            contact[i] = findContact(sequence_and_coordinates[i][1], here_iddict_combineddict[0][i], cutoff = 5)\n",
    "        except:\n",
    "            print('Check '+ i+' again')\n",
    "    return sequence_and_coordinates, contact"
   ]
  },
  {
   "cell_type": "markdown",
   "metadata": {},
   "source": [
    "### Deals with the working directory\n",
    "* **The summary file and the pdb files should be in the current working directory**"
   ]
  },
  {
   "cell_type": "code",
   "execution_count": 15,
   "metadata": {},
   "outputs": [
    {
     "data": {
      "text/plain": [
       "['.git',\n",
       " '.gitignore',\n",
       " '.ipynb_checkpoints',\n",
       " '1a14.pdb',\n",
       " '1a2y.pdb',\n",
       " '1adq.pdb',\n",
       " '1bog.pdb',\n",
       " '1bvk.pdb',\n",
       " '1dee.pdb',\n",
       " '1g9m.pdb',\n",
       " '1g9n.pdb',\n",
       " '1gc1.pdb',\n",
       " '1h0d.pdb',\n",
       " '1hez.pdb',\n",
       " '1i9r.pdb',\n",
       " '1ikf.pdb',\n",
       " '1jrh.pdb',\n",
       " '2hrp.pdb',\n",
       " '2j88.pdb',\n",
       " '5kel.pdb',\n",
       " 'AAC-1.ipynb',\n",
       " 'AAC.py',\n",
       " 'AACS.py',\n",
       " 'AAC_1.py',\n",
       " 'AntigenAntibodyComplex.py',\n",
       " 'ChainDictRelation.py',\n",
       " 'Contact_with_afinity.json',\n",
       " 'Debugging.py',\n",
       " 'Format_v33_Letter.pdf',\n",
       " 'IDhere.py',\n",
       " 'Import.py',\n",
       " 'output.csv',\n",
       " 'README.md',\n",
       " 'Reduce_Contact.py',\n",
       " 'Simple_Analysis.py',\n",
       " 'summary.tsv',\n",
       " '__pycache__']"
      ]
     },
     "execution_count": 15,
     "metadata": {},
     "output_type": "execute_result"
    }
   ],
   "source": [
    "import os\n",
    "os.getcwd()\n",
    "os.listdir()"
   ]
  },
  {
   "cell_type": "markdown",
   "metadata": {},
   "source": [
    "### Some preparations for the ids"
   ]
  },
  {
   "cell_type": "code",
   "execution_count": 16,
   "metadata": {},
   "outputs": [],
   "source": [
    "with open('summary.TSV', 'r') as summary:\n",
    "    file = summary.readlines()\n",
    "    id_dict = Id_dict(file)\n",
    "    combined_chain_id_dict = Combined_chain_id_dict(id_dict)\n",
    "    here_iddict_combineddict = Here_iddict_combineddict(id_dict, combined_chain_id_dict)"
   ]
  },
  {
   "cell_type": "code",
   "execution_count": 17,
   "metadata": {},
   "outputs": [
    {
     "data": {
      "text/plain": [
       "({'1adq': [['H', 'L', 'A']],\n",
       "  '1bvk': [['B', 'A', 'C'], ['E', 'D', 'F']],\n",
       "  '1dee': [['B', 'A', ''], ['D', 'C', 'G'], ['F', 'E', 'H']],\n",
       "  '1g9m': [['H', 'L', 'G']],\n",
       "  '1g9n': [['H', 'L', 'G']],\n",
       "  '1gc1': [['H', 'L', 'G']],\n",
       "  '1h0d': [['B', 'A', 'C']],\n",
       "  '1hez': [['D', 'C', 'E'], ['B', 'A', 'E']],\n",
       "  '1i9r': [['K', 'M', 'B'], ['X', 'Y', 'C'], ['H', 'L', 'A']],\n",
       "  '1ikf': [['H', 'L', 'C']],\n",
       "  '5kel': [['Q', 'U', 'I'],\n",
       "   ['C', 'D', 'A'],\n",
       "   ['P', 'T', 'G'],\n",
       "   ['H', 'L', 'B'],\n",
       "   ['M', 'O', 'F'],\n",
       "   ['J', 'N', 'E']]},\n",
       " {'1adq': ['H', 'L', 'A'],\n",
       "  '1bvk': ['BE', 'AD', 'CF'],\n",
       "  '1dee': ['BDF', 'ACE', 'GH'],\n",
       "  '1g9m': ['H', 'L', 'G'],\n",
       "  '1g9n': ['H', 'L', 'G'],\n",
       "  '1gc1': ['H', 'L', 'G'],\n",
       "  '1h0d': ['B', 'A', 'C'],\n",
       "  '1hez': ['DB', 'CA', 'EE'],\n",
       "  '1i9r': ['KXH', 'MYL', 'BCA'],\n",
       "  '1ikf': ['H', 'L', 'C'],\n",
       "  '5kel': ['QCPHMJ', 'UDTLON', 'IAGBFE']})"
      ]
     },
     "execution_count": 17,
     "metadata": {},
     "output_type": "execute_result"
    }
   ],
   "source": [
    "here_iddict_combineddict"
   ]
  },
  {
   "cell_type": "markdown",
   "metadata": {},
   "source": [
    "### Run"
   ]
  },
  {
   "cell_type": "code",
   "execution_count": 18,
   "metadata": {},
   "outputs": [
    {
     "name": "stdout",
     "output_type": "stream",
     "text": [
      "extracting sequence and coordinates of 1adq.pdb...1\n",
      "extracting sequence and coordinates of 1bvk.pdb...2\n",
      "extracting sequence and coordinates of 1dee.pdb...3\n",
      "extracting sequence and coordinates of 1g9m.pdb...4\n",
      "extracting sequence and coordinates of 1g9n.pdb...5\n",
      "extracting sequence and coordinates of 1gc1.pdb...6\n",
      "extracting sequence and coordinates of 1h0d.pdb...7\n",
      "extracting sequence and coordinates of 1hez.pdb...8\n",
      "extracting sequence and coordinates of 1i9r.pdb...9\n",
      "extracting sequence and coordinates of 1ikf.pdb...10\n",
      "extracting sequence and coordinates of 5kel.pdb...11\n",
      "Counting contact of 1adq.pdb...1\n",
      "Counting contact of 1bvk.pdb...2\n",
      "Counting contact of 1dee.pdb...3\n",
      "Counting contact of 1g9m.pdb...4\n",
      "Counting contact of 1g9n.pdb...5\n",
      "Counting contact of 1gc1.pdb...6\n",
      "Counting contact of 1h0d.pdb...7\n",
      "Counting contact of 1hez.pdb...8\n",
      "Counting contact of 1i9r.pdb...9\n",
      "Counting contact of 1ikf.pdb...10\n",
      "Counting contact of 5kel.pdb...11\n"
     ]
    }
   ],
   "source": [
    "sequence_and_coordinates, contact = main(here_iddict_combineddict)"
   ]
  },
  {
   "cell_type": "markdown",
   "metadata": {},
   "source": [
    "### Save the results as json"
   ]
  },
  {
   "cell_type": "code",
   "execution_count": 19,
   "metadata": {
    "collapsed": true
   },
   "outputs": [],
   "source": [
    "import json\n",
    "\n",
    "with open('seq_and_coordinates_current', 'w') as f:\n",
    "    json.dump(sequence_and_coordinates, f)\n",
    "    \n",
    "with open('contact_current', 'w') as f:\n",
    "    json.dump(contact, f)    "
   ]
  },
  {
   "cell_type": "code",
   "execution_count": null,
   "metadata": {
    "collapsed": true
   },
   "outputs": [],
   "source": [
    "# with open('contactdict1.json', 'w') as f:\n",
    "#     data = json.load(f)\n",
    "# data.keys()\n",
    "# data['1i9r']"
   ]
  }
 ],
 "metadata": {
  "kernelspec": {
   "display_name": "Python 3",
   "language": "python",
   "name": "python3"
  },
  "language_info": {
   "codemirror_mode": {
    "name": "ipython",
    "version": 3
   },
   "file_extension": ".py",
   "mimetype": "text/x-python",
   "name": "python",
   "nbconvert_exporter": "python",
   "pygments_lexer": "ipython3",
   "version": "3.6.3"
  }
 },
 "nbformat": 4,
 "nbformat_minor": 2
}
