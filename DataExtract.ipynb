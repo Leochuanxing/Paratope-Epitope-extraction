{
 "cells": [
  {
   "cell_type": "markdown",
   "metadata": {},
   "source": [
    "## This file is to extract contact information with some constrant\n",
    "* **Constraints:**  \n",
    " * length, gives the fram length  \n",
    " * ref_chain gives the reference chain, it takes values of either 'Ab' or 'Ag'\n",
    "For example, *ref_chain = 'Ag', length = 2*, means we try to find consecutive amino acids with length 2 in the antigen, with the largest contact number among all consecutive amino acids with the same length in the antigen, lets call those consecutive amino acids, aa_max.\n",
    "**Here, we give all aa_max with length no larger than *length***"
   ]
  },
  {
   "cell_type": "markdown",
   "metadata": {},
   "source": [
    "### Group\n",
    "* **Inputs:**  \n",
    " * four_coordinates, a list contains all the interations of one pdb  \n",
    "* **Returns:**  \n",
    " * grouped, a dictionary of four coordiantes, with keys h1HA, h2HA,..."
   ]
  },
  {
   "cell_type": "code",
   "execution_count": 1,
   "metadata": {
    "collapsed": true
   },
   "outputs": [],
   "source": [
    "def group(four_coordinates):\n",
    "    grouped = {}\n",
    "    for i in four_coordinates:\n",
    "        if i[0] not in grouped:\n",
    "            grouped[i[0]] = [i]\n",
    "        else:\n",
    "            grouped[i[0]].append(i)\n",
    "    return grouped"
   ]
  },
  {
   "cell_type": "markdown",
   "metadata": {},
   "source": [
    "### extract_aa_pos\n",
    "* **Inputs:**  \n",
    " * grouped_list, a list of four coordinates, for example, a list of four coordinates of 'h1HA' of '1adq'.  \n",
    " * ref_chain, a string, takes values as either 'Ab' or 'Ag'.  \n",
    "* **Returns:**  \n",
    " * aa_pos, a list contains the sorted list of amino acid positions without repitation either of antigen chain or antibody chain.\n"
   ]
  },
  {
   "cell_type": "code",
   "execution_count": 2,
   "metadata": {
    "collapsed": true
   },
   "outputs": [],
   "source": [
    "def extract_aa_pos(grouped_list, ref_chain = 'Ag'):    \n",
    "    if ref_chain == 'Ab':\n",
    "        ind = 1\n",
    "    if ref_chain == 'Ag':\n",
    "        ind = 2\n",
    "    aa_pos = []\n",
    "    for i in grouped_list:\n",
    "        if i[ind] not in aa_pos:\n",
    "            aa_pos.append(i[ind])\n",
    "    aa_pos.sort()    \n",
    "    return aa_pos"
   ]
  },
  {
   "cell_type": "markdown",
   "metadata": {},
   "source": [
    "### extract_aa_consecutive_pos\n",
    "* **Inputs:*  \n",
    " * aa_pos, a list of amino acid positions without repeat  \n",
    " * length, an integer, give the length of the reference frame  \n",
    "* **Retruns:**  \n",
    " * aa_consecutive_pos, a list aa_positions which are consecutive with length length, in the form [[1, 2, 3], [3, 4, 5],...]"
   ]
  },
  {
   "cell_type": "code",
   "execution_count": 3,
   "metadata": {
    "collapsed": true
   },
   "outputs": [],
   "source": [
    "def extract_aa_consecutive_pos(aa_pos, length):\n",
    "    aa_consecutive_pos = []\n",
    "    if len(aa_pos) >= length:\n",
    "        for i in range(len(aa_pos) - length + 1):\n",
    "            if aa_pos[i + length - 1] -  aa_pos[i] == length - 1:\n",
    "                aa_consecutive_pos.append(aa_pos[i : i + length ])              \n",
    "        \n",
    "    return aa_consecutive_pos"
   ]
  },
  {
   "cell_type": "markdown",
   "metadata": {},
   "source": [
    "### extract_aa_max\n",
    "* **Inputs:**\n",
    " * aa_consecutive_pos, a list of list, gives the position of the amino acids in the form of [[1, 2, 3], [3, 4, 5],...].  \n",
    " * four_coordinates, a list of four coordinates, to which the aa_consecutive_pos is related.  \n",
    " * ref_chain, a string, takes values as either 'Ab' or 'Ag'  \n",
    "* **Returns:**  \n",
    " * aa_max, a list of aa positions, corresponding to the biggest contact number among all the aa_consecutive_pos.  \n",
    " * contact, an integer, gives the total number of conatact corresponding to aa_max"
   ]
  },
  {
   "cell_type": "code",
   "execution_count": 4,
   "metadata": {
    "collapsed": true
   },
   "outputs": [],
   "source": [
    "def extract_aa_max(aa_consecutive_pos, four_coordinates, ref_chain = 'Ag'):\n",
    "    contact = 0\n",
    "    aa_max = None    \n",
    "    if ref_chain == 'Ab':\n",
    "        ind = 1\n",
    "    if ref_chain == 'Ag':\n",
    "        ind = 2\n",
    "    for i in aa_consecutive_pos:\n",
    "        s = 0\n",
    "#        aa_max_temp = []\n",
    "        for j in four_coordinates:\n",
    "            if j[ind] in i:\n",
    "#                aa_max_temp.append(j)\n",
    "                s += j[3]\n",
    "        if contact <= s:\n",
    "            contact = s\n",
    "            aa_max = i\n",
    "    return aa_max, contact"
   ]
  },
  {
   "cell_type": "markdown",
   "metadata": {},
   "source": [
    "### Main\n",
    "* **Inputs:**  \n",
    " * *contact*, a list of four coordinates for one pdb.  \n",
    " * *length*, an integer, gives the maximum length of the consecutive amino acids  \n",
    " * *ref_chain*, a string, takes values as either 'Ab' or 'Ag'.  \n",
    "* **Returns:**  . \n",
    " * *grouped_aa_max_contact*, a dictionary, in the form of {'h1HA': [[[16], [16, 17], None], [21, 37, 0]], ...}. It means for this pdb file, with *length* no larger than 3, and *ref_chain = 'Ag'*, amino acid *16* is the one with the largest contact number, 21; amino acids *[16, 17]* are the consecutive 2 amino acides with the largest contact number 37; there is no consecutive amino acids with length 3 in the antigen chain, which conatact with CDRh1 as well.\n",
    " "
   ]
  },
  {
   "cell_type": "code",
   "execution_count": 6,
   "metadata": {
    "collapsed": true
   },
   "outputs": [],
   "source": [
    "def main(contact, length = 3, ref_chain = 'Ag'):\n",
    "    grouped = group(contact)\n",
    "    grouped_aa_max_contact = {}\n",
    "    for i in grouped:\n",
    "        aa_pos = extract_aa_pos(grouped[i], ref_chain)\n",
    "        total_aa_consecutive_pos = []\n",
    "        total_aa_max = []\n",
    "        total_contact_max = []\n",
    "        for j in range(length):\n",
    "           total_aa_consecutive_pos.append(extract_aa_consecutive_pos(aa_pos, j+1))\n",
    "        for k in total_aa_consecutive_pos:\n",
    "           aa_max, contact = extract_aa_max(k, grouped[i], ref_chain)\n",
    "           total_aa_max.append(aa_max)\n",
    "           total_contact_max.append(contact)\n",
    "        grouped_aa_max_contact[i] = [total_aa_max, total_contact_max]\n",
    "    return grouped_aa_max_contact"
   ]
  },
  {
   "cell_type": "markdown",
   "metadata": {},
   "source": [
    "### Do some preparation of the working directory"
   ]
  },
  {
   "cell_type": "code",
   "execution_count": 8,
   "metadata": {},
   "outputs": [
    {
     "data": {
      "text/plain": [
       "'C:\\\\Users\\\\leo\\\\Documents\\\\Research\\\\Database\\\\PDB Learning'"
      ]
     },
     "execution_count": 8,
     "metadata": {},
     "output_type": "execute_result"
    }
   ],
   "source": [
    "import os\n",
    "os.getcwd()\n",
    "# os.chdir"
   ]
  },
  {
   "cell_type": "markdown",
   "metadata": {},
   "source": [
    "### load the out put of AAC-1"
   ]
  },
  {
   "cell_type": "code",
   "execution_count": 10,
   "metadata": {
    "scrolled": true
   },
   "outputs": [],
   "source": [
    "import json\n",
    "with open(\"contact_current\", 'r') as f:\n",
    "    contact_current = json.load(f)"
   ]
  },
  {
   "cell_type": "markdown",
   "metadata": {},
   "source": [
    "### Extract data from the file loaded above"
   ]
  },
  {
   "cell_type": "code",
   "execution_count": 13,
   "metadata": {
    "collapsed": true
   },
   "outputs": [],
   "source": [
    "DataExtract = {}\n",
    "for i in contact_current:\n",
    "    DataExtract[i] = main(contact_current[i], length = 3, ref_chain = 'Ab')"
   ]
  },
  {
   "cell_type": "code",
   "execution_count": 14,
   "metadata": {},
   "outputs": [
    {
     "data": {
      "text/plain": [
       "{'1adq': {'h1HA': [[[30], [29, 30], None], [37, 40, 0]],\n",
       "  'h2HA': [[[52], None, None], [47, 0, 0]],\n",
       "  'h3HA': [[[101], [101, 102], [99, 100, 101]], [93, 122, 134]],\n",
       "  'l1LA': [[[29], None, None], [2, 0, 0]],\n",
       "  'l2LA': [[[53], [53, 54], None], [30, 37, 0]]},\n",
       " '1bvk': {'h1BC': [[[30], [30, 31], [29, 30, 31]], [22, 32, 38]],\n",
       "  'h1EF': [[[30], [30, 31], [29, 30, 31]], [26, 39, 43]],\n",
       "  'h2BC': [[[51], [51, 52], [51, 52, 53]], [53, 62, 80]],\n",
       "  'h2EF': [[[51], [51, 52], [51, 52, 53]], [44, 51, 72]],\n",
       "  'h3BC': [[[100], [99, 100], [98, 99, 100]], [65, 99, 119]],\n",
       "  'h3EF': [[[100], [99, 100], [99, 100, 101]], [65, 98, 110]],\n",
       "  'l1AC': [[[31], None, None], [34, 0, 0]],\n",
       "  'l1DF': [[[31], None, None], [34, 0, 0]],\n",
       "  'l2AC': [[[49], [48, 49], None], [28, 43, 0]],\n",
       "  'l2DF': [[[49], [48, 49], None], [29, 37, 0]],\n",
       "  'l3AC': [[[91], [91, 92], [90, 91, 92]], [38, 57, 63]],\n",
       "  'l3DF': [[[91], [91, 92], [90, 91, 92]], [47, 70, 76]]},\n",
       " '1dee': {'h2DG': [[[57], None, None], [28, 0, 0]],\n",
       "  'h2FH': [[[59], None, None], [26, 0, 0]]},\n",
       " '1g9m': {'h2HG': [[[54], [53, 54], None], [23, 24, 0]],\n",
       "  'h3HG': [[[106], [105, 106], [106, 107, 108]], [53, 72, 111]],\n",
       "  'l3LG': [[[93], [93, 94], [93, 94, 95]], [45, 53, 54]]},\n",
       " '1g9n': {'h2HG': [[[54], [53, 54], None], [28, 29, 0]],\n",
       "  'h3HG': [[[106], [105, 106], [106, 107, 108]], [54, 86, 121]],\n",
       "  'l3LG': [[[93], [93, 94], [93, 94, 95]], [58, 80, 81]]},\n",
       " '1gc1': {'h2HG': [[[54], [53, 54], [54, 55, 56]], [26, 28, 35]],\n",
       "  'h3HG': [[[106], [105, 106], [105, 106, 107]], [53, 98, 128]],\n",
       "  'l3LG': [[[93], [93, 94], None], [35, 45, 0]]},\n",
       " '1h0d': {'h1BC': [[[32], None, None], [8, 0, 0]],\n",
       "  'h2BC': [[[58], [51, 52], [51, 52, 53]], [63, 35, 43]],\n",
       "  'h3BC': [[[101], None, None], [64, 0, 0]],\n",
       "  'l1AC': [[[31], [30, 31], None], [93, 111, 0]],\n",
       "  'l3AC': [[[95], [95, 96], [94, 95, 96]], [46, 61, 75]]},\n",
       " '1hez': {'l1AE': [[[23], None, None], [25, 0, 0]],\n",
       "  'l1CE': [[[23], None, None], [30, 0, 0]]},\n",
       " '1i9r': {'h1HA': [[[32], [31, 32], [30, 31, 32]], [14, 26, 34]],\n",
       "  'h1KB': [[[31], [31, 32], [30, 31, 32]], [13, 25, 33]],\n",
       "  'h1XC': [[[32], [31, 32], [30, 31, 32]], [12, 24, 32]],\n",
       "  'h2HA': [[[54], [53, 54], [54, 55, 56]], [63, 78, 106]],\n",
       "  'h2KB': [[[54], [53, 54], [54, 55, 56]], [65, 79, 107]],\n",
       "  'h2XC': [[[54], [54, 55], [54, 55, 56]], [67, 80, 112]],\n",
       "  'h3HA': [[[101], [101, 102], [100, 101, 102]], [29, 45, 58]],\n",
       "  'h3KB': [[[101], [100, 101], [100, 101, 102]], [33, 51, 68]],\n",
       "  'h3XC': [[[101], [101, 102], [100, 101, 102]], [32, 48, 61]],\n",
       "  'l1LA': [[[35], [30, 31], [30, 31, 32]], [38, 43, 45]],\n",
       "  'l1MB': [[[35], [30, 31], [30, 31, 32]], [36, 48, 50]],\n",
       "  'l1YC': [[[35], [30, 31], [30, 31, 32]], [34, 46, 48]],\n",
       "  'l3LA': [[[95], [94, 95], [94, 95, 96]], [84, 91, 93]],\n",
       "  'l3MB': [[[95], [94, 95], [94, 95, 96]], [89, 98, 101]],\n",
       "  'l3YC': [[[95], [94, 95], [94, 95, 96]], [87, 94, 96]]},\n",
       " '1ikf': {'h3HC': [[[107], [106, 107], None], [33, 41, 0]]},\n",
       " '5kel': {'h1CA': [[[31], [31, 32], None], [23, 26, 0]],\n",
       "  'h1HB': [[[32], None, None], [21, 0, 0]],\n",
       "  'h1JE': [[[31], [31, 32], None], [23, 26, 0]],\n",
       "  'h1MF': [[[31], [31, 32], None], [23, 26, 0]],\n",
       "  'h1PG': [[[32], None, None], [21, 0, 0]],\n",
       "  'h1QI': [[[32], None, None], [21, 0, 0]],\n",
       "  'h2CA': [[[53], [53, 54], [53, 54, 55]], [37, 44, 70]],\n",
       "  'h2HB': [[[51], [51, 52], None], [43, 44, 0]],\n",
       "  'h2JE': [[[53], [53, 54], [53, 54, 55]], [37, 44, 70]],\n",
       "  'h2MF': [[[53], [53, 54], [53, 54, 55]], [37, 44, 70]],\n",
       "  'h2PG': [[[51], [51, 52], None], [43, 44, 0]],\n",
       "  'h2QI': [[[51], [51, 52], None], [43, 44, 0]],\n",
       "  'h3CA': [[[104], [103, 104], [102, 103, 104]], [42, 66, 99]],\n",
       "  'h3HB': [[[103], [103, 104], [102, 103, 104]], [76, 104, 127]],\n",
       "  'h3JE': [[[104], [103, 104], [102, 103, 104]], [42, 66, 99]],\n",
       "  'h3MF': [[[104], [103, 104], [102, 103, 104]], [42, 66, 99]],\n",
       "  'h3PG': [[[103], [103, 104], [102, 103, 104]], [76, 104, 127]],\n",
       "  'h3QI': [[[103], [103, 104], [102, 103, 104]], [76, 104, 127]],\n",
       "  'l1DA': [[[31], None, None], [1, 0, 0]],\n",
       "  'l1LB': [[[29], [29, 30], [28, 29, 30]], [54, 80, 90]],\n",
       "  'l1NE': [[[31], None, None], [1, 0, 0]],\n",
       "  'l1OF': [[[31], None, None], [1, 0, 0]],\n",
       "  'l1TG': [[[29], [29, 30], [28, 29, 30]], [54, 80, 90]],\n",
       "  'l1UI': [[[29], [29, 30], [28, 29, 30]], [54, 80, 90]],\n",
       "  'l2LB': [[[52], [51, 52], [50, 51, 52]], [41, 44, 45]],\n",
       "  'l2TG': [[[52], [51, 52], [50, 51, 52]], [41, 44, 45]],\n",
       "  'l2UI': [[[52], [51, 52], [50, 51, 52]], [41, 44, 45]],\n",
       "  'l3DA': [[[90], [90, 91], [90, 91, 92]], [32, 61, 74]],\n",
       "  'l3LB': [[[91], [91, 92], None], [15, 22, 0]],\n",
       "  'l3NE': [[[90], [90, 91], [90, 91, 92]], [32, 61, 74]],\n",
       "  'l3OF': [[[90], [90, 91], [90, 91, 92]], [32, 61, 74]],\n",
       "  'l3TG': [[[91], [91, 92], None], [15, 22, 0]],\n",
       "  'l3UI': [[[91], [91, 92], None], [15, 22, 0]]}}"
      ]
     },
     "execution_count": 14,
     "metadata": {},
     "output_type": "execute_result"
    }
   ],
   "source": [
    "DataExtract"
   ]
  },
  {
   "cell_type": "code",
   "execution_count": null,
   "metadata": {
    "collapsed": true
   },
   "outputs": [],
   "source": []
  }
 ],
 "metadata": {
  "kernelspec": {
   "display_name": "Python 3",
   "language": "python",
   "name": "python3"
  },
  "language_info": {
   "codemirror_mode": {
    "name": "ipython",
    "version": 3
   },
   "file_extension": ".py",
   "mimetype": "text/x-python",
   "name": "python",
   "nbconvert_exporter": "python",
   "pygments_lexer": "ipython3",
   "version": "3.6.3"
  }
 },
 "nbformat": 4,
 "nbformat_minor": 2
}
