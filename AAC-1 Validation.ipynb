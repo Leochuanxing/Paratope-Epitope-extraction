{
 "cells": [
  {
   "cell_type": "markdown",
   "metadata": {},
   "source": [
    "## This file is to validate the AAC-1 results  \n",
    " **The general idea is to go backward. Randomly sample the results, then check whether the aminoacids and the contact number are correct**\n",
    "* **Outline:**  \n",
    "* Randomly sample the results  \n",
    "* Extract the amino acids from the stored sequences accoring to the sampled results from above\n",
    "* Extract the amino acids and coordinates from the original file, calculate the contact number\n",
    "* Compare the results\n"
   ]
  },
  {
   "cell_type": "markdown",
   "metadata": {},
   "source": [
    "### Do some settings."
   ]
  },
  {
   "cell_type": "code",
   "execution_count": 5,
   "metadata": {
    "collapsed": true
   },
   "outputs": [],
   "source": [
    "import random\n",
    "import math\n",
    "import numpy as np"
   ]
  },
  {
   "cell_type": "markdown",
   "metadata": {},
   "source": [
    "### sample_results  \n",
    "* **Inputs:**  \n",
    "* contact, it is a list, gives all the contact of one pdb file, in the form of [['l2LA', 54, 184, 6], ['h3HA', 102, 195, 3]....]  \n",
    "* **Returns:**  \n",
    "* sub_contact, a list, it is subset of the contact.\n"
   ]
  },
  {
   "cell_type": "code",
   "execution_count": 21,
   "metadata": {
    "collapsed": true
   },
   "outputs": [],
   "source": [
    "def sample_results(contact):\n",
    "    sub_contact = random.sample(contact, math.ceil(0.5 * len(contact)))\n",
    "    return sub_contact   "
   ]
  },
  {
   "cell_type": "markdown",
   "metadata": {},
   "source": [
    "### extract_aa_from_results\n",
    "* **Inputs:**  \n",
    "* sub_contact, a list, in the form of [['l2LA', 54, 184, 6], ['h3HA', 102, 195, 3]....].  \n",
    "* seq, a dictionary, gives the sequences of all the chains in one pdb, in the form of {'A': [ALA, THR, ARG, ...], 'L': [TRP,...],...}\n",
    "* **Retruns:**  \n",
    "* aa, a list, in the form of [[HA, ALA, THR, 3], ......], where the THR is from the antibody, and 3 is the contact number\n"
   ]
  },
  {
   "cell_type": "code",
   "execution_count": 7,
   "metadata": {
    "collapsed": true
   },
   "outputs": [],
   "source": [
    "def extract_aa_from_results(sub_contact, seq):\n",
    "    aa = []\n",
    "    for F_coordinates in sub_contact:\n",
    "        antibody_chain = F_coordinates[0][2]\n",
    "        antigen_chain = F_coordinates[0][3]\n",
    "        aa.append([F_coordinates[0][2:3], seq[antibody_chain][F_coordinates[1]], seq[antigen_chain][F_coordinates[2]], F_coordinates[3]])\n",
    "    return aa\n"
   ]
  },
  {
   "cell_type": "markdown",
   "metadata": {},
   "source": [
    "### dist\n",
    "**It is a function to calculate the Euclidean distance**"
   ]
  },
  {
   "cell_type": "code",
   "execution_count": 8,
   "metadata": {
    "collapsed": true
   },
   "outputs": [],
   "source": [
    "def dist(x, y):\n",
    "    return np.sqrt(np.sum((np.array(x) - np.array(y))**2))"
   ]
  },
  {
   "cell_type": "markdown",
   "metadata": {},
   "source": [
    "### get_contact_sub\n",
    "* **Inputs:**  \n",
    " * list_1, list_2, are list of coordinates in the form of [[1.2, 2.1, 0.5, 8], ....], [[1.2, 2.1, 0.5, 8], ....]  \n",
    "* **Returns:**\n",
    " * **contact**, a list in the form of [[8, 9, 3],....], where the first two elements indicates the amino acid positions in the antibody chaind and the antigen chain, the third element means the contact number"
   ]
  },
  {
   "cell_type": "code",
   "execution_count": 9,
   "metadata": {
    "collapsed": true
   },
   "outputs": [],
   "source": [
    "def get_contact_sub(list_1, list_2, cutoff = 5):\n",
    "    contact = []\n",
    "    dic_temp = {}\n",
    "    for i in list_1:\n",
    "        for j in list_2:\n",
    "            if dist(i[:-1], j[:-1]) <= cutoff:\n",
    "                if str(i[3])+'_'+str(j[3]) in dic_temp:\n",
    "                    dic_temp[str(i[3])+'_'+str(j[3])] += 1\n",
    "                else:\n",
    "                    dic_temp[str(i[3])+'_'+str(j[3])] = 1\n",
    "    for k in dic_temp:\n",
    "        contact.append([int(k.split('_')[0]), int(k.split('_')[1]), dic_temp[k]])\n",
    "    return contact"
   ]
  },
  {
   "cell_type": "markdown",
   "metadata": {},
   "source": [
    "### extract_aa_cdn_from_origin\n",
    "**This is a class to extract amino acids and calculate the conatact from the original pdb file**"
   ]
  },
  {
   "cell_type": "code",
   "execution_count": 10,
   "metadata": {
    "collapsed": true
   },
   "outputs": [],
   "source": [
    "class extract_aa_cdn_from_origin (object):\n",
    "    def __init__(self, file, antibody_chain_id, antigen_chain_id,  position = {}, cutoff = 5.0):\n",
    "        self.file = file\n",
    "        self.antibody_chain_id = antibody_chain_id\n",
    "        self.antigen_chain_id = antigen_chain_id\n",
    "        self.position = position\n",
    "        self.cutoff = cutoff\n",
    "    '''\n",
    "    inputs: the above arguments\n",
    "    returns: aa, a dictionary, in the form of {'A':[[8,9,...],[ALA, ....]],...}\n",
    "             coordinates, a dictionary in the form of {'A':[[1.2, 2.1, 0.5, 8], ....]...}\n",
    "    '''        \n",
    "    def get_aa_cdn(self):\n",
    "        # initialize the returned values\n",
    "        aa = {}\n",
    "        for i in self.antibody_chain_id:\n",
    "            aa[i] = [[], []]\n",
    "        for j in self.antigen_chain_id :\n",
    "            aa[j] = [[], []]\n",
    "            \n",
    "        coordinates = {}\n",
    "        for i in self.antibody_chain_id:\n",
    "            coordinates[i] = []\n",
    "        for j in self.antigen_chain_id :\n",
    "            coordinates[j] = []\n",
    "        # Initialize the temperary values        \n",
    "        aa_pdb_tracker = {}\n",
    "        for i in self.antibody_chain_id:\n",
    "            aa_pdb_tracker[i] = ' '\n",
    "        for i in self.antigen_chain_id:\n",
    "            aa_pdb_tracker[i] = ' '\n",
    "            \n",
    "        insersion_tracker = {}\n",
    "        for i in self.antibody_chain_id:\n",
    "            insersion_tracker[i] = ' '\n",
    "        for i in self.antigen_chain_id:\n",
    "            insersion_tracker[i] = ' '\n",
    "            \n",
    "        normal_tracker = {}\n",
    "        for i in self.antibody_chain_id:\n",
    "            normal_tracker[i] = -1\n",
    "        for i in self.antigen_chain_id:\n",
    "            normal_tracker[i] = -1\n",
    "            \n",
    "        count_tracker = {} \n",
    "        for i in self.antibody_chain_id:\n",
    "            count_tracker[i] = -1\n",
    "        for i in self.antigen_chain_id:\n",
    "            count_tracker[i] = -1\n",
    "\n",
    "       # extract the aa and coordinates        \n",
    "        for line in self.file:\n",
    "            a = 0\n",
    "            b = 0              \n",
    "            if line[:4] == \"ATOM\" and line[21] in self.antibody_chain_id:\n",
    "                \n",
    "                if insersion_tracker[line[21]] != line[26]:\n",
    "                    if line[26] != ' ':\n",
    "                        a = 1\n",
    "                    insersion_tracker[line[21]] = line[26]  \n",
    "                    \n",
    "                if normal_tracker[line[21]] != int(line[22:26]) and normal_tracker[line[21]] == -1:#first line\n",
    "                    b = 1\n",
    "                    normal_tracker[line[21]] = int(line[22:26])\n",
    "                if normal_tracker[line[21]] != int(line[22:26]) and normal_tracker[line[21]] != -1:\n",
    "                    b = int(line[22:26]) - normal_tracker[line[21]]\n",
    "                    normal_tracker[line[21]] = int(line[22:26])\n",
    "                    \n",
    "                if a + b >= 1:\n",
    "                    count_tracker[line[21]] += 1\n",
    "                                        \n",
    "                if count_tracker[line[21]] in self.position[line[21]]:\n",
    "                    if count_tracker[line[21]] not in aa[line[21]][0]:\n",
    "                        aa[line[21]][0].append(count_tracker[line[21]])\n",
    "                        aa[line[21]][1].append(line[17:20])\n",
    "                    coordinates[line[21]].append([float(line[30:38]), float(line[38:46]), float(line[46:54]), count_tracker[line[21]]])\n",
    "            \n",
    "            a = 0 \n",
    "            b = 0              \n",
    "            if line[:4] == \"ATOM\" and line[21] in self.antigen_chain_id:\n",
    "                \n",
    "                if insersion_tracker[line[21]] != line[26]:\n",
    "                    if line[26] != ' ':\n",
    "                        a = 1\n",
    "                    insersion_tracker[line[21]] = line[26]  \n",
    "                    \n",
    "                if normal_tracker[line[21]] != int(line[22:26]) and normal_tracker[line[21]] == -1:#first line\n",
    "                    b = 1\n",
    "                    normal_tracker[line[21]] = int(line[22:26])\n",
    "                if normal_tracker[line[21]] != int(line[22:26]) and normal_tracker[line[21]] != -1:\n",
    "                    b = int(line[22:26]) - normal_tracker[line[21]]\n",
    "                    normal_tracker[line[21]] = int(line[22:26])\n",
    "                    \n",
    "                if a + b == 1:\n",
    "                    count_tracker[line[21]] += 1\n",
    "                if a + b >= 2:\n",
    "                    count_tracker[line[21]] += 2\n",
    "                                        \n",
    "                if count_tracker[line[21]] in self.position[line[21]]:\n",
    "                    if count_tracker[line[21]] not in aa[line[21]][0]:\n",
    "                        aa[line[21]][0].append(count_tracker[line[21]])\n",
    "                        aa[line[21]][1].append(line[17:20])\n",
    "                    coordinates[line[21]].append([float(line[30:38]), float(line[38:46]), float(line[46:54]), count_tracker[line[21]]])\n",
    "        return aa, coordinates \n",
    "    '''retruns contact in the form of [[HA, ALA, THR, 3], ......]'''   \n",
    "    def get_contact(self, aa, coordinates):  \n",
    "        contact = []\n",
    "        contact_temp = []\n",
    "        for i in self.antibody_chain_id:\n",
    "            for j in self.antigen_chain_id:\n",
    "                contact_temp = get_contact_sub(coordinates[i], coordinates[j], self.cutoff)\n",
    "                contact = []\n",
    "                for k in contact_temp:\n",
    "                    aa_antibody = aa[i][1][aa[i][0].index(k[0])]\n",
    "                    aa_antigen = aa[j][1][aa[j][0].index(k[1])]\n",
    "                    contact.append([i+j, aa_antibody, aa_antigen, k[2]])\n",
    "        return contact"
   ]
  },
  {
   "cell_type": "markdown",
   "metadata": {},
   "source": [
    "### process_four_coordinates\n",
    "* **Inputs:**  \n",
    " * four_coordinates, a list in the form of [['l2LA', 53, 202, 9], ...]  \n",
    "* **Returns:**  \n",
    " * antibody_chain_id, antigen_chain_id,  position = {}, all those are as described in *extract_aa_cdn_from_origin*.\n",
    "\n"
   ]
  },
  {
   "cell_type": "code",
   "execution_count": 11,
   "metadata": {
    "collapsed": true
   },
   "outputs": [],
   "source": [
    "def process_four_coordinates(four_coordinates):\n",
    "    antibody_chain_id = []\n",
    "    antigen_chain_id = []\n",
    "    for i in four_coordinates:\n",
    "        if i[0][2] not in antibody_chain_id:\n",
    "            antibody_chain_id.append(i[0][2])\n",
    "        if i[0][3] not in antigen_chain_id:\n",
    "            antigen_chain_id.append(i[0][3])\n",
    "    # Initialize position\n",
    "    position = {}\n",
    "    for i in antibody_chain_id:\n",
    "        position[i] = [] \n",
    "    for i in antigen_chain_id:\n",
    "        position[i] = [] \n",
    "    # pour data to position\n",
    "    for i in four_coordinates:\n",
    "        if i[1] not in position[i[0][2]]:\n",
    "            position[i[0][2]].append(i[1])\n",
    "        if i[2] not in position[i[0][3]]:\n",
    "            position[i[0][3]].append(i[2])  \n",
    "    return antibody_chain_id, antigen_chain_id,  position"
   ]
  },
  {
   "cell_type": "markdown",
   "metadata": {},
   "source": [
    "### main\n",
    "* **Inputs:**  \n",
    " * contact_dict, a dictionary in the form of {'1dee': [['l2LA', 53, 202, 9], ...] , ...}  \n",
    " * PDB_seq, a dictionary in the form of {'1dee': {'A': [ALA, THR, ARG, ...], 'L': [TRP,...],...}, ...} \n",
    " \n",
    "* **Returns:**\n",
    " * if the results are the same, say\"They are the same\", otherwise say \"files ... are different\""
   ]
  },
  {
   "cell_type": "code",
   "execution_count": 23,
   "metadata": {},
   "outputs": [],
   "source": [
    "def main(contact_dic, PDB_seq):\n",
    "    for pdb in contact_dic:\n",
    "        sub_contact = sample_results(contact_dic[pdb])\n",
    "        contact_from_results = extract_aa_from_results(sub_contact, PDB_seq[pdb][0])\n",
    "        \n",
    "        antibody_chain_id, antigen_chain_id,  position = process_four_coordinates(sub_contact)\n",
    "        with open(pdb+'.pdb', 'r') as f:\n",
    "            one_pdb = extract_aa_cdn_from_origin(f, antibody_chain_id, antigen_chain_id,  position)\n",
    "            aa, coordinates = one_pdb.get_aa_cdn()\n",
    "            contact_from_origin = one_pdb.get_contact(aa, coordinates)\n",
    "        # compare\n",
    "        if contact_from_results.sort() == contact_from_origin.sort():\n",
    "            print('They are the same.')\n",
    "        else:\n",
    "            print('file '+ pdb + ' is different.')\n",
    "            \n",
    "            "
   ]
  },
  {
   "cell_type": "code",
   "execution_count": 19,
   "metadata": {},
   "outputs": [],
   "source": [
    "import json\n",
    "with open(\"contact_current\", 'r') as f:\n",
    "    contact_current = json.load(f)\n",
    "with open('seq_and_coordinates_current', 'r') as f:\n",
    "    seq_and_coordinates_current = json.load(f)"
   ]
  },
  {
   "cell_type": "code",
   "execution_count": 24,
   "metadata": {},
   "outputs": [
    {
     "name": "stdout",
     "output_type": "stream",
     "text": [
      "They are the same.\n",
      "They are the same.\n",
      "They are the same.\n",
      "They are the same.\n",
      "They are the same.\n",
      "They are the same.\n",
      "They are the same.\n",
      "They are the same.\n",
      "They are the same.\n",
      "They are the same.\n",
      "They are the same.\n"
     ]
    }
   ],
   "source": [
    "main(contact_current, seq_and_coordinates_current)"
   ]
  },
  {
   "cell_type": "code",
   "execution_count": null,
   "metadata": {
    "collapsed": true
   },
   "outputs": [],
   "source": []
  }
 ],
 "metadata": {
  "kernelspec": {
   "display_name": "Python 3",
   "language": "python",
   "name": "python3"
  },
  "language_info": {
   "codemirror_mode": {
    "name": "ipython",
    "version": 3
   },
   "file_extension": ".py",
   "mimetype": "text/x-python",
   "name": "python",
   "nbconvert_exporter": "python",
   "pygments_lexer": "ipython3",
   "version": "3.6.3"
  }
 },
 "nbformat": 4,
 "nbformat_minor": 2
}
